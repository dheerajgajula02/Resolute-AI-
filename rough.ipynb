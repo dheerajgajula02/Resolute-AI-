{
 "cells": [
  {
   "cell_type": "code",
   "execution_count": 1,
   "metadata": {},
   "outputs": [
    {
     "name": "stdout",
     "output_type": "stream",
     "text": [
      "hi\n"
     ]
    }
   ],
   "source": [
    "print(\"hi\")"
   ]
  },
  {
   "cell_type": "code",
   "execution_count": 2,
   "metadata": {},
   "outputs": [
    {
     "name": "stdout",
     "output_type": "stream",
     "text": [
      "Package                      Version\n",
      "---------------------------- ------------\n",
      "absl-py                      1.4.0\n",
      "asttokens                    2.4.0\n",
      "astunparse                   1.6.3\n",
      "backcall                     0.2.0\n",
      "beautifulsoup4               4.12.2\n",
      "blinker                      1.6.2\n",
      "cachetools                   5.3.1\n",
      "certifi                      2023.7.22\n",
      "charset-normalizer           3.2.0\n",
      "click                        8.1.7\n",
      "comm                         0.1.4\n",
      "debugpy                      1.7.0\n",
      "decorator                    5.1.1\n",
      "deepface                     0.0.79\n",
      "exceptiongroup               1.1.3\n",
      "executing                    1.2.0\n",
      "filelock                     3.12.2\n",
      "fire                         0.5.0\n",
      "Flask                        2.3.3\n",
      "flatbuffers                  23.5.26\n",
      "gast                         0.4.0\n",
      "gdown                        4.7.1\n",
      "google-auth                  2.23.0\n",
      "google-auth-oauthlib         1.0.0\n",
      "google-pasta                 0.2.0\n",
      "grpcio                       1.58.0\n",
      "gunicorn                     21.2.0\n",
      "h5py                         3.9.0\n",
      "idna                         3.4\n",
      "ipykernel                    6.25.2\n",
      "ipython                      8.15.0\n",
      "itsdangerous                 2.1.2\n",
      "jedi                         0.19.0\n",
      "Jinja2                       3.1.2\n",
      "jupyter_client               8.3.1\n",
      "jupyter_core                 5.3.1\n",
      "keras                        2.13.1\n",
      "libclang                     16.0.6\n",
      "Markdown                     3.4.4\n",
      "MarkupSafe                   2.1.3\n",
      "matplotlib-inline            0.1.6\n",
      "mtcnn                        0.1.1\n",
      "nest-asyncio                 1.5.7\n",
      "numpy                        1.24.3\n",
      "oauthlib                     3.2.2\n",
      "opencv-python                4.8.0.76\n",
      "opt-einsum                   3.3.0\n",
      "packaging                    23.1\n",
      "pandas                       2.1.0\n",
      "parso                        0.8.3\n",
      "pexpect                      4.8.0\n",
      "pickleshare                  0.7.5\n",
      "Pillow                       10.0.0\n",
      "pip                          23.2.1\n",
      "platformdirs                 3.10.0\n",
      "prompt-toolkit               3.0.39\n",
      "protobuf                     4.24.3\n",
      "psutil                       5.9.5\n",
      "ptyprocess                   0.7.0\n",
      "pure-eval                    0.2.2\n",
      "pyasn1                       0.5.0\n",
      "pyasn1-modules               0.3.0\n",
      "Pygments                     2.16.1\n",
      "PySocks                      1.7.1\n",
      "python-dateutil              2.8.2\n",
      "pytz                         2023.3.post1\n",
      "pyzmq                        25.1.1\n",
      "requests                     2.31.0\n",
      "requests-oauthlib            1.3.1\n",
      "retina-face                  0.0.13\n",
      "rsa                          4.9\n",
      "setuptools                   68.0.0\n",
      "six                          1.16.0\n",
      "soupsieve                    2.5\n",
      "stack-data                   0.6.2\n",
      "tensorboard                  2.13.0\n",
      "tensorboard-data-server      0.7.1\n",
      "tensorflow                   2.13.0\n",
      "tensorflow-estimator         2.13.0\n",
      "tensorflow-io-gcs-filesystem 0.34.0\n",
      "termcolor                    2.3.0\n",
      "tornado                      6.3.3\n",
      "tqdm                         4.66.1\n",
      "traitlets                    5.9.0\n",
      "typing_extensions            4.5.0\n",
      "tzdata                       2023.3\n",
      "urllib3                      1.26.16\n",
      "wcwidth                      0.2.6\n",
      "Werkzeug                     2.3.7\n",
      "wheel                        0.41.2\n",
      "wrapt                        1.15.0\n"
     ]
    }
   ],
   "source": [
    "!pip list"
   ]
  },
  {
   "cell_type": "code",
   "execution_count": 3,
   "metadata": {},
   "outputs": [
    {
     "name": "stderr",
     "output_type": "stream",
     "text": [
      "2023-09-12 01:10:54.291990: I tensorflow/core/util/port.cc:110] oneDNN custom operations are on. You may see slightly different numerical results due to floating-point round-off errors from different computation orders. To turn them off, set the environment variable `TF_ENABLE_ONEDNN_OPTS=0`.\n",
      "2023-09-12 01:10:54.293403: I tensorflow/tsl/cuda/cudart_stub.cc:28] Could not find cuda drivers on your machine, GPU will not be used.\n",
      "2023-09-12 01:10:54.327435: I tensorflow/tsl/cuda/cudart_stub.cc:28] Could not find cuda drivers on your machine, GPU will not be used.\n",
      "2023-09-12 01:10:54.328004: I tensorflow/core/platform/cpu_feature_guard.cc:182] This TensorFlow binary is optimized to use available CPU instructions in performance-critical operations.\n",
      "To enable the following instructions: AVX2 AVX512F AVX512_VNNI FMA, in other operations, rebuild TensorFlow with the appropriate compiler flags.\n",
      "2023-09-12 01:10:54.993734: W tensorflow/compiler/tf2tensorrt/utils/py_utils.cc:38] TF-TRT Warning: Could not find TensorRT\n"
     ]
    },
    {
     "name": "stdout",
     "output_type": "stream",
     "text": [
      "Directory  /home/dheeraj /.deepface created\n",
      "Directory  /home/dheeraj /.deepface/weights created\n",
      "facenet_weights.h5 will be downloaded...\n"
     ]
    },
    {
     "name": "stderr",
     "output_type": "stream",
     "text": [
      "Downloading...\n",
      "From: https://github.com/serengil/deepface_models/releases/download/v1.0/facenet_weights.h5\n",
      "To: /home/dheeraj/.deepface/weights/facenet_weights.h5\n",
      "100%|██████████| 92.2M/92.2M [00:24<00:00, 3.72MB/s]\n"
     ]
    }
   ],
   "source": [
    "from deepface import DeepFace\n",
    "embedding = DeepFace.represent(\"avatar_big.jpg\", model_name=\"Facenet\")"
   ]
  },
  {
   "cell_type": "code",
   "execution_count": 4,
   "metadata": {},
   "outputs": [
    {
     "name": "stdout",
     "output_type": "stream",
     "text": [
      "[{'embedding': [-0.09076513350009918, 0.08886197209358215, 0.15293869376182556, 1.3050998449325562, 0.6735206246376038, -0.5840471982955933, -0.7085157632827759, -0.941710889339447, 0.6089529395103455, 1.509556770324707, -1.5694262981414795, -0.41883981227874756, -0.8119755983352661, -1.4621089696884155, -1.2958686351776123, 0.7303705811500549, 0.129063218832016, 0.7656143307685852, -0.8910018801689148, -2.0877323150634766, 1.4415451288223267, -0.17805510759353638, 0.25993067026138306, 0.4857114851474762, 0.37858280539512634, -0.4921509027481079, -2.2896807193756104, 0.8697909116744995, -0.16400860249996185, 0.5110368728637695, 0.38793784379959106, -1.5923455953598022, -0.6883647441864014, 0.3024584650993347, 0.6249523758888245, -0.14073269069194794, -0.29698461294174194, -1.0496432781219482, -1.2049403190612793, 0.579301118850708, 0.7831265330314636, 0.5744271874427795, 1.4275412559509277, 1.8728562593460083, 0.2450212836265564, 1.628089189529419, 0.41459596157073975, 2.597339391708374, -2.911194086074829, 1.0948642492294312, -1.2300089597702026, -0.19573824107646942, -1.347758173942566, 2.5704448223114014, -0.26914912462234497, 1.3203637599945068, 1.6867191791534424, -2.3911614418029785, 0.021310973912477493, -0.4758611023426056, 0.09151216596364975, -1.4094077348709106, 0.5734288692474365, 0.5973252058029175, 0.2678165137767792, 0.22601217031478882, -1.981513500213623, 0.5957920551300049, -2.0643250942230225, -1.4911363124847412, -0.8648337721824646, 0.811684250831604, 0.21092621982097626, -1.574820876121521, 1.2004830837249756, -0.6198055148124695, 0.9069092273712158, 1.234044075012207, -0.5678199529647827, 0.08908069133758545, -1.2025355100631714, -1.446540355682373, -0.08901460468769073, -0.751849889755249, -0.24477916955947876, -1.465250015258789, -1.0550986528396606, -0.20770001411437988, 1.216679573059082, 1.031033992767334, 0.38451269268989563, -0.6763604879379272, 1.379471778869629, 0.08955900371074677, 1.8273276090621948, -1.4319401979446411, 1.3643198013305664, -0.4102357029914856, -1.4230625629425049, -0.7549489140510559, 2.4215736389160156, 0.8517112731933594, -0.8528855443000793, 0.4238947331905365, -0.2434844672679901, -0.31594544649124146, -2.088902711868286, -0.48701903223991394, 0.14890329539775848, 0.06352217495441437, 0.796940267086029, 0.08647732436656952, 0.590507984161377, 1.5894781351089478, -0.7716116309165955, -1.3805023431777954, 0.31031355261802673, -0.382224977016449, -0.27893856167793274, -0.8981039524078369, 0.3137572407722473, -0.4919758141040802, 0.6197375655174255, -0.9603865742683411, -0.0014272108674049377, -1.1401379108428955, 0.9949072003364563, 0.9671216011047363], 'facial_area': {'x': 872, 'y': 851, 'w': 376, 'h': 376}}]\n"
     ]
    }
   ],
   "source": [
    "print(embedding)"
   ]
  },
  {
   "cell_type": "code",
   "execution_count": 6,
   "metadata": {},
   "outputs": [],
   "source": [
    "embedding_1 = DeepFace.represent(\"face_db/Dheeraj/avatar_big.jpg\", model_name=\"Facenet\")"
   ]
  },
  {
   "cell_type": "code",
   "execution_count": 7,
   "metadata": {},
   "outputs": [
    {
     "name": "stdout",
     "output_type": "stream",
     "text": [
      "[{'embedding': [-0.09076513350009918, 0.08886197209358215, 0.15293869376182556, 1.3050998449325562, 0.6735206246376038, -0.5840471982955933, -0.7085157632827759, -0.941710889339447, 0.6089529395103455, 1.509556770324707, -1.5694262981414795, -0.41883981227874756, -0.8119755983352661, -1.4621089696884155, -1.2958686351776123, 0.7303705811500549, 0.129063218832016, 0.7656143307685852, -0.8910018801689148, -2.0877323150634766, 1.4415451288223267, -0.17805510759353638, 0.25993067026138306, 0.4857114851474762, 0.37858280539512634, -0.4921509027481079, -2.2896807193756104, 0.8697909116744995, -0.16400860249996185, 0.5110368728637695, 0.38793784379959106, -1.5923455953598022, -0.6883647441864014, 0.3024584650993347, 0.6249523758888245, -0.14073269069194794, -0.29698461294174194, -1.0496432781219482, -1.2049403190612793, 0.579301118850708, 0.7831265330314636, 0.5744271874427795, 1.4275412559509277, 1.8728562593460083, 0.2450212836265564, 1.628089189529419, 0.41459596157073975, 2.597339391708374, -2.911194086074829, 1.0948642492294312, -1.2300089597702026, -0.19573824107646942, -1.347758173942566, 2.5704448223114014, -0.26914912462234497, 1.3203637599945068, 1.6867191791534424, -2.3911614418029785, 0.021310973912477493, -0.4758611023426056, 0.09151216596364975, -1.4094077348709106, 0.5734288692474365, 0.5973252058029175, 0.2678165137767792, 0.22601217031478882, -1.981513500213623, 0.5957920551300049, -2.0643250942230225, -1.4911363124847412, -0.8648337721824646, 0.811684250831604, 0.21092621982097626, -1.574820876121521, 1.2004830837249756, -0.6198055148124695, 0.9069092273712158, 1.234044075012207, -0.5678199529647827, 0.08908069133758545, -1.2025355100631714, -1.446540355682373, -0.08901460468769073, -0.751849889755249, -0.24477916955947876, -1.465250015258789, -1.0550986528396606, -0.20770001411437988, 1.216679573059082, 1.031033992767334, 0.38451269268989563, -0.6763604879379272, 1.379471778869629, 0.08955900371074677, 1.8273276090621948, -1.4319401979446411, 1.3643198013305664, -0.4102357029914856, -1.4230625629425049, -0.7549489140510559, 2.4215736389160156, 0.8517112731933594, -0.8528855443000793, 0.4238947331905365, -0.2434844672679901, -0.31594544649124146, -2.088902711868286, -0.48701903223991394, 0.14890329539775848, 0.06352217495441437, 0.796940267086029, 0.08647732436656952, 0.590507984161377, 1.5894781351089478, -0.7716116309165955, -1.3805023431777954, 0.31031355261802673, -0.382224977016449, -0.27893856167793274, -0.8981039524078369, 0.3137572407722473, -0.4919758141040802, 0.6197375655174255, -0.9603865742683411, -0.0014272108674049377, -1.1401379108428955, 0.9949072003364563, 0.9671216011047363], 'facial_area': {'x': 872, 'y': 851, 'w': 376, 'h': 376}}]\n"
     ]
    }
   ],
   "source": [
    "print(embedding_1)"
   ]
  },
  {
   "cell_type": "code",
   "execution_count": 9,
   "metadata": {},
   "outputs": [
    {
     "data": {
      "text/plain": [
       "list"
      ]
     },
     "execution_count": 9,
     "metadata": {},
     "output_type": "execute_result"
    }
   ],
   "source": [
    "type(embedding)"
   ]
  },
  {
   "cell_type": "code",
   "execution_count": 11,
   "metadata": {},
   "outputs": [
    {
     "ename": "AttributeError",
     "evalue": "'list' object has no attribute 'shape'",
     "output_type": "error",
     "traceback": [
      "\u001b[0;31m---------------------------------------------------------------------------\u001b[0m",
      "\u001b[0;31mAttributeError\u001b[0m                            Traceback (most recent call last)",
      "Cell \u001b[0;32mIn[11], line 1\u001b[0m\n\u001b[0;32m----> 1\u001b[0m embedding\u001b[39m.\u001b[39;49mshape\n",
      "\u001b[0;31mAttributeError\u001b[0m: 'list' object has no attribute 'shape'"
     ]
    }
   ],
   "source": [
    "embedding.shape"
   ]
  },
  {
   "cell_type": "code",
   "execution_count": 13,
   "metadata": {},
   "outputs": [
    {
     "data": {
      "text/plain": [
       "1"
      ]
     },
     "execution_count": 13,
     "metadata": {},
     "output_type": "execute_result"
    }
   ],
   "source": [
    "len(embedding)"
   ]
  },
  {
   "cell_type": "code",
   "execution_count": 15,
   "metadata": {},
   "outputs": [
    {
     "data": {
      "text/plain": [
       "dict"
      ]
     },
     "execution_count": 15,
     "metadata": {},
     "output_type": "execute_result"
    }
   ],
   "source": [
    "type(embedding[0])"
   ]
  },
  {
   "cell_type": "code",
   "execution_count": 17,
   "metadata": {},
   "outputs": [],
   "source": [
    "check = embedding[0]['embedding']"
   ]
  },
  {
   "cell_type": "code",
   "execution_count": 18,
   "metadata": {},
   "outputs": [],
   "source": [
    "check_1 = embedding_1[0]['embedding']"
   ]
  },
  {
   "cell_type": "code",
   "execution_count": 20,
   "metadata": {},
   "outputs": [],
   "source": [
    "import numpy as np"
   ]
  },
  {
   "cell_type": "code",
   "execution_count": 21,
   "metadata": {},
   "outputs": [],
   "source": [
    "diff= []\n",
    "for a,b in zip(check,check_1):\n",
    "    rms = np.sqrt(np.square(a-b))\n",
    "    diff.append(rms)\n",
    "    "
   ]
  },
  {
   "cell_type": "code",
   "execution_count": 22,
   "metadata": {},
   "outputs": [
    {
     "data": {
      "text/plain": [
       "[0.0,\n",
       " 0.0,\n",
       " 0.0,\n",
       " 0.0,\n",
       " 0.0,\n",
       " 0.0,\n",
       " 0.0,\n",
       " 0.0,\n",
       " 0.0,\n",
       " 0.0,\n",
       " 0.0,\n",
       " 0.0,\n",
       " 0.0,\n",
       " 0.0,\n",
       " 0.0,\n",
       " 0.0,\n",
       " 0.0,\n",
       " 0.0,\n",
       " 0.0,\n",
       " 0.0,\n",
       " 0.0,\n",
       " 0.0,\n",
       " 0.0,\n",
       " 0.0,\n",
       " 0.0,\n",
       " 0.0,\n",
       " 0.0,\n",
       " 0.0,\n",
       " 0.0,\n",
       " 0.0,\n",
       " 0.0,\n",
       " 0.0,\n",
       " 0.0,\n",
       " 0.0,\n",
       " 0.0,\n",
       " 0.0,\n",
       " 0.0,\n",
       " 0.0,\n",
       " 0.0,\n",
       " 0.0,\n",
       " 0.0,\n",
       " 0.0,\n",
       " 0.0,\n",
       " 0.0,\n",
       " 0.0,\n",
       " 0.0,\n",
       " 0.0,\n",
       " 0.0,\n",
       " 0.0,\n",
       " 0.0,\n",
       " 0.0,\n",
       " 0.0,\n",
       " 0.0,\n",
       " 0.0,\n",
       " 0.0,\n",
       " 0.0,\n",
       " 0.0,\n",
       " 0.0,\n",
       " 0.0,\n",
       " 0.0,\n",
       " 0.0,\n",
       " 0.0,\n",
       " 0.0,\n",
       " 0.0,\n",
       " 0.0,\n",
       " 0.0,\n",
       " 0.0,\n",
       " 0.0,\n",
       " 0.0,\n",
       " 0.0,\n",
       " 0.0,\n",
       " 0.0,\n",
       " 0.0,\n",
       " 0.0,\n",
       " 0.0,\n",
       " 0.0,\n",
       " 0.0,\n",
       " 0.0,\n",
       " 0.0,\n",
       " 0.0,\n",
       " 0.0,\n",
       " 0.0,\n",
       " 0.0,\n",
       " 0.0,\n",
       " 0.0,\n",
       " 0.0,\n",
       " 0.0,\n",
       " 0.0,\n",
       " 0.0,\n",
       " 0.0,\n",
       " 0.0,\n",
       " 0.0,\n",
       " 0.0,\n",
       " 0.0,\n",
       " 0.0,\n",
       " 0.0,\n",
       " 0.0,\n",
       " 0.0,\n",
       " 0.0,\n",
       " 0.0,\n",
       " 0.0,\n",
       " 0.0,\n",
       " 0.0,\n",
       " 0.0,\n",
       " 0.0,\n",
       " 0.0,\n",
       " 0.0,\n",
       " 0.0,\n",
       " 0.0,\n",
       " 0.0,\n",
       " 0.0,\n",
       " 0.0,\n",
       " 0.0,\n",
       " 0.0,\n",
       " 0.0,\n",
       " 0.0,\n",
       " 0.0,\n",
       " 0.0,\n",
       " 0.0,\n",
       " 0.0,\n",
       " 0.0,\n",
       " 0.0,\n",
       " 0.0,\n",
       " 0.0,\n",
       " 0.0,\n",
       " 0.0,\n",
       " 0.0,\n",
       " 0.0]"
      ]
     },
     "execution_count": 22,
     "metadata": {},
     "output_type": "execute_result"
    }
   ],
   "source": []
  },
  {
   "cell_type": "code",
   "execution_count": 23,
   "metadata": {},
   "outputs": [],
   "source": [
    "embedding_2 = DeepFace.represent(\"face_db/Dheeraj/avatar.jpeg\", model_name=\"Facenet\")"
   ]
  },
  {
   "cell_type": "code",
   "execution_count": 24,
   "metadata": {},
   "outputs": [
    {
     "data": {
      "text/plain": [
       "[{'embedding': [0.7747650146484375,\n",
       "   -1.808021068572998,\n",
       "   -0.1923551857471466,\n",
       "   2.0448789596557617,\n",
       "   0.6710444092750549,\n",
       "   0.8998258709907532,\n",
       "   -1.1240475177764893,\n",
       "   -0.3260033130645752,\n",
       "   0.5302923917770386,\n",
       "   2.482060670852661,\n",
       "   -2.7948548793792725,\n",
       "   -0.7627186179161072,\n",
       "   -0.478127121925354,\n",
       "   -0.9003528356552124,\n",
       "   -0.748679518699646,\n",
       "   0.410850465297699,\n",
       "   1.2110395431518555,\n",
       "   0.7911533117294312,\n",
       "   0.5507501363754272,\n",
       "   -1.6666463613510132,\n",
       "   0.6326694488525391,\n",
       "   0.037980835884809494,\n",
       "   0.6008068919181824,\n",
       "   -0.5913456678390503,\n",
       "   1.6009242534637451,\n",
       "   0.5806147456169128,\n",
       "   -0.6638369560241699,\n",
       "   1.0425119400024414,\n",
       "   0.7685035467147827,\n",
       "   0.5167084336280823,\n",
       "   0.37082189321517944,\n",
       "   -1.2423344850540161,\n",
       "   -0.9830121397972107,\n",
       "   -1.1302556991577148,\n",
       "   1.268464207649231,\n",
       "   -0.6196045875549316,\n",
       "   -0.6625812649726868,\n",
       "   0.777026355266571,\n",
       "   -0.16153955459594727,\n",
       "   0.3820064067840576,\n",
       "   0.07051181048154831,\n",
       "   1.2562214136123657,\n",
       "   1.64498770236969,\n",
       "   1.3330003023147583,\n",
       "   0.9001377820968628,\n",
       "   1.3159950971603394,\n",
       "   -0.8677377700805664,\n",
       "   1.7806971073150635,\n",
       "   -1.339102864265442,\n",
       "   1.2787374258041382,\n",
       "   -0.7154715657234192,\n",
       "   -0.08125331997871399,\n",
       "   -0.5531226992607117,\n",
       "   1.93430757522583,\n",
       "   0.3809974789619446,\n",
       "   0.5163506865501404,\n",
       "   1.8739808797836304,\n",
       "   -1.4634783267974854,\n",
       "   0.0642254427075386,\n",
       "   -0.9140165448188782,\n",
       "   0.077186219394207,\n",
       "   -1.5780442953109741,\n",
       "   1.6999088525772095,\n",
       "   0.783595085144043,\n",
       "   -1.1040561199188232,\n",
       "   -0.07675272226333618,\n",
       "   -1.8706921339035034,\n",
       "   -0.5554822087287903,\n",
       "   -1.9153494834899902,\n",
       "   -1.4766201972961426,\n",
       "   -1.000756025314331,\n",
       "   0.38098451495170593,\n",
       "   -0.47250181436538696,\n",
       "   -1.3621467351913452,\n",
       "   1.7017061710357666,\n",
       "   -0.8118999004364014,\n",
       "   -0.09090395271778107,\n",
       "   1.5819652080535889,\n",
       "   0.02409091591835022,\n",
       "   1.244835615158081,\n",
       "   -1.114920735359192,\n",
       "   -0.768043041229248,\n",
       "   0.8426588177680969,\n",
       "   -0.4088722765445709,\n",
       "   -1.1884310245513916,\n",
       "   -1.49917733669281,\n",
       "   -0.4710395634174347,\n",
       "   -0.5059045553207397,\n",
       "   0.13085885345935822,\n",
       "   -0.07952448725700378,\n",
       "   0.04830390214920044,\n",
       "   -0.3556954264640808,\n",
       "   -0.5066078901290894,\n",
       "   0.6846489310264587,\n",
       "   1.2488316297531128,\n",
       "   -1.7008610963821411,\n",
       "   0.12040509283542633,\n",
       "   -1.2853087186813354,\n",
       "   -0.9931544661521912,\n",
       "   -0.7697897553443909,\n",
       "   1.8733807802200317,\n",
       "   1.7471596002578735,\n",
       "   -0.7152807712554932,\n",
       "   0.42618802189826965,\n",
       "   0.06597118824720383,\n",
       "   -0.20977918803691864,\n",
       "   -2.3958661556243896,\n",
       "   -0.9861491918563843,\n",
       "   0.46553683280944824,\n",
       "   -0.6204323768615723,\n",
       "   1.387189507484436,\n",
       "   -0.5615841746330261,\n",
       "   -0.2583627700805664,\n",
       "   1.794981837272644,\n",
       "   -0.4061506390571594,\n",
       "   -1.0666313171386719,\n",
       "   0.059587232768535614,\n",
       "   0.3070417642593384,\n",
       "   -0.7729728817939758,\n",
       "   -1.6205471754074097,\n",
       "   1.1088011264801025,\n",
       "   -0.7596335411071777,\n",
       "   0.49343496561050415,\n",
       "   -0.7139779925346375,\n",
       "   -1.0495606660842896,\n",
       "   -0.5549636483192444,\n",
       "   1.0112663507461548,\n",
       "   -0.3160477578639984],\n",
       "  'facial_area': {'x': 243, 'y': 188, 'w': 188, 'h': 188}}]"
      ]
     },
     "execution_count": 24,
     "metadata": {},
     "output_type": "execute_result"
    }
   ],
   "source": [
    "embedding_2"
   ]
  },
  {
   "cell_type": "code",
   "execution_count": 25,
   "metadata": {},
   "outputs": [],
   "source": [
    "check_2 = embedding_2[0]['embedding']"
   ]
  },
  {
   "cell_type": "code",
   "execution_count": 26,
   "metadata": {},
   "outputs": [],
   "source": [
    "diff_1= []\n",
    "adding_em_all = 0\n",
    "for a,b in zip(check,check_1):\n",
    "    rms = np.sqrt(np.square(a-b))\n",
    "    diff.append(rms)\n",
    "    adding_em_all += rms"
   ]
  },
  {
   "cell_type": "code",
   "execution_count": 27,
   "metadata": {},
   "outputs": [
    {
     "data": {
      "text/plain": [
       "0.0"
      ]
     },
     "execution_count": 27,
     "metadata": {},
     "output_type": "execute_result"
    }
   ],
   "source": [
    "adding_em_all"
   ]
  },
  {
   "cell_type": "code",
   "execution_count": 28,
   "metadata": {},
   "outputs": [
    {
     "data": {
      "text/plain": [
       "({'x': 872, 'y': 851, 'w': 376, 'h': 376},\n",
       " {'x': 872, 'y': 851, 'w': 376, 'h': 376},\n",
       " {'x': 243, 'y': 188, 'w': 188, 'h': 188})"
      ]
     },
     "execution_count": 28,
     "metadata": {},
     "output_type": "execute_result"
    }
   ],
   "source": [
    "embedding_1[0]['facial_area'], embedding_1[0]['facial_area'], embedding_2[0]['facial_area']"
   ]
  },
  {
   "cell_type": "code",
   "execution_count": 1,
   "metadata": {},
   "outputs": [
    {
     "name": "stdout",
     "output_type": "stream",
     "text": [
      "True\n",
      "True\n",
      "True\n",
      "True\n",
      "True\n",
      "True\n",
      "True\n",
      "True\n",
      "True\n",
      "True\n",
      "True\n",
      "True\n",
      "True\n",
      "True\n",
      "True\n",
      "True\n",
      "True\n",
      "True\n",
      "True\n",
      "True\n",
      "True\n",
      "True\n",
      "True\n",
      "True\n",
      "True\n",
      "True\n",
      "True\n",
      "True\n",
      "True\n",
      "True\n",
      "True\n",
      "True\n",
      "True\n",
      "True\n",
      "True\n",
      "True\n",
      "True\n",
      "True\n",
      "True\n",
      "True\n",
      "True\n",
      "True\n",
      "True\n",
      "True\n",
      "True\n",
      "True\n",
      "True\n",
      "True\n",
      "True\n",
      "True\n",
      "True\n",
      "True\n",
      "True\n",
      "True\n",
      "True\n",
      "True\n",
      "True\n",
      "True\n",
      "True\n",
      "True\n",
      "True\n",
      "True\n",
      "True\n",
      "True\n",
      "True\n",
      "True\n",
      "True\n",
      "True\n",
      "True\n",
      "True\n",
      "True\n",
      "True\n",
      "True\n",
      "True\n",
      "True\n",
      "True\n",
      "True\n",
      "True\n",
      "True\n",
      "True\n",
      "True\n",
      "True\n",
      "True\n",
      "True\n",
      "True\n",
      "True\n",
      "True\n",
      "True\n",
      "True\n",
      "True\n",
      "True\n",
      "True\n",
      "True\n",
      "True\n",
      "True\n",
      "True\n",
      "True\n",
      "True\n",
      "True\n",
      "True\n",
      "True\n",
      "True\n",
      "True\n",
      "True\n",
      "True\n",
      "True\n",
      "True\n",
      "True\n",
      "True\n",
      "True\n",
      "True\n",
      "True\n",
      "True\n",
      "True\n",
      "True\n",
      "True\n",
      "True\n",
      "True\n",
      "True\n",
      "True\n",
      "True\n",
      "True\n",
      "True\n",
      "True\n",
      "True\n",
      "True\n",
      "True\n",
      "True\n",
      "True\n",
      "True\n",
      "True\n",
      "True\n",
      "True\n",
      "True\n",
      "True\n",
      "True\n",
      "True\n",
      "True\n",
      "True\n",
      "True\n",
      "True\n",
      "True\n",
      "True\n",
      "True\n",
      "True\n",
      "True\n",
      "True\n",
      "True\n",
      "True\n",
      "True\n",
      "True\n",
      "True\n",
      "True\n",
      "True\n",
      "True\n",
      "True\n",
      "True\n",
      "True\n",
      "True\n",
      "True\n",
      "True\n",
      "True\n",
      "True\n",
      "True\n",
      "True\n",
      "True\n",
      "True\n",
      "True\n",
      "True\n",
      "True\n",
      "True\n",
      "True\n",
      "True\n",
      "True\n",
      "True\n",
      "True\n",
      "True\n",
      "True\n",
      "True\n",
      "True\n",
      "True\n",
      "True\n",
      "True\n",
      "True\n",
      "True\n",
      "True\n",
      "True\n",
      "True\n",
      "True\n",
      "True\n",
      "True\n",
      "True\n",
      "True\n",
      "True\n",
      "True\n",
      "True\n",
      "True\n",
      "True\n",
      "True\n",
      "True\n",
      "True\n",
      "True\n",
      "True\n",
      "True\n",
      "True\n",
      "True\n",
      "True\n",
      "True\n"
     ]
    },
    {
     "ename": "KeyboardInterrupt",
     "evalue": "",
     "output_type": "error",
     "traceback": [
      "\u001b[0;31m---------------------------------------------------------------------------\u001b[0m",
      "\u001b[0;31mKeyboardInterrupt\u001b[0m                         Traceback (most recent call last)",
      "\u001b[1;32m/home/dheeraj/Desktop/Projects/internshala_project/rough.ipynb Cell 22\u001b[0m line \u001b[0;36m4\n\u001b[1;32m      <a href='vscode-notebook-cell:/home/dheeraj/Desktop/Projects/internshala_project/rough.ipynb#X30sZmlsZQ%3D%3D?line=1'>2</a>\u001b[0m camera \u001b[39m=\u001b[39m cv2\u001b[39m.\u001b[39mVideoCapture(\u001b[39m0\u001b[39m)\n\u001b[1;32m      <a href='vscode-notebook-cell:/home/dheeraj/Desktop/Projects/internshala_project/rough.ipynb#X30sZmlsZQ%3D%3D?line=2'>3</a>\u001b[0m \u001b[39mwhile\u001b[39;00m \u001b[39mTrue\u001b[39;00m:\n\u001b[0;32m----> <a href='vscode-notebook-cell:/home/dheeraj/Desktop/Projects/internshala_project/rough.ipynb#X30sZmlsZQ%3D%3D?line=3'>4</a>\u001b[0m         success, frame \u001b[39m=\u001b[39m camera\u001b[39m.\u001b[39;49mread()\n\u001b[1;32m      <a href='vscode-notebook-cell:/home/dheeraj/Desktop/Projects/internshala_project/rough.ipynb#X30sZmlsZQ%3D%3D?line=4'>5</a>\u001b[0m         \u001b[39mprint\u001b[39m(success)\n",
      "\u001b[0;31mKeyboardInterrupt\u001b[0m: "
     ]
    }
   ],
   "source": [
    "import time\n",
    "import cv2\n",
    "camera = cv2.VideoCapture(0)\n",
    "\n",
    "while True:\n",
    "        success, frame = camera.read()\n",
    "        print(success)"
   ]
  },
  {
   "cell_type": "code",
   "execution_count": 2,
   "metadata": {},
   "outputs": [],
   "source": [
    "camera.release()"
   ]
  },
  {
   "cell_type": "code",
   "execution_count": null,
   "metadata": {},
   "outputs": [],
   "source": []
  }
 ],
 "metadata": {
  "kernelspec": {
   "display_name": "venv",
   "language": "python",
   "name": "python3"
  },
  "language_info": {
   "codemirror_mode": {
    "name": "ipython",
    "version": 3
   },
   "file_extension": ".py",
   "mimetype": "text/x-python",
   "name": "python",
   "nbconvert_exporter": "python",
   "pygments_lexer": "ipython3",
   "version": "3.10.12"
  },
  "orig_nbformat": 4
 },
 "nbformat": 4,
 "nbformat_minor": 2
}
